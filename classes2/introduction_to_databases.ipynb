{
 "cells": [
  {
   "cell_type": "code",
   "execution_count": 6,
   "id": "3d30d01b-a4d6-4a6c-abc5-b771fd528eb8",
   "metadata": {
    "ExecuteTime": {
     "end_time": "2024-04-18T11:03:32.241263Z",
     "start_time": "2024-04-18T11:03:32.096728Z"
    }
   },
   "outputs": [
    {
     "ename": "ModuleNotFoundError",
     "evalue": "No module named 'sqlalchemy'",
     "output_type": "error",
     "traceback": [
      "\u001B[0;31m---------------------------------------------------------------------------\u001B[0m",
      "\u001B[0;31mModuleNotFoundError\u001B[0m                       Traceback (most recent call last)",
      "Cell \u001B[0;32mIn [6], line 1\u001B[0m\n\u001B[0;32m----> 1\u001B[0m \u001B[38;5;28;01mfrom\u001B[39;00m \u001B[38;5;21;01msqlalchemy\u001B[39;00m \u001B[38;5;28;01mimport\u001B[39;00m create_engine, MetaData\n\u001B[1;32m      2\u001B[0m \u001B[38;5;28;01mfrom\u001B[39;00m \u001B[38;5;21;01msqlalchemy\u001B[39;00m \u001B[38;5;28;01mimport\u001B[39;00m inspect\n\u001B[1;32m      4\u001B[0m \u001B[38;5;28;01mfrom\u001B[39;00m \u001B[38;5;21;01msqlalchemy\u001B[39;00m \u001B[38;5;28;01mimport\u001B[39;00m (\n\u001B[1;32m      5\u001B[0m     Table, \n\u001B[1;32m      6\u001B[0m     Column, \n\u001B[0;32m   (...)\u001B[0m\n\u001B[1;32m     13\u001B[0m     func\n\u001B[1;32m     14\u001B[0m )\n",
      "\u001B[0;31mModuleNotFoundError\u001B[0m: No module named 'sqlalchemy'"
     ]
    }
   ],
   "source": [
    "from sqlalchemy import create_engine, MetaData\n",
    "from sqlalchemy import inspect\n",
    "\n",
    "from sqlalchemy import (\n",
    "    Table, \n",
    "    Column, \n",
    "    String,\n",
    "    Integer, \n",
    "    Float,\n",
    "    Boolean,\n",
    "    select,\n",
    "    text,\n",
    "    func\n",
    ")\n",
    "\n",
    "import sqlalchemy as db"
   ]
  },
  {
   "cell_type": "code",
   "outputs": [
    {
     "name": "stdout",
     "output_type": "stream",
     "text": [
      "Package                   Version\r\n",
      "------------------------- --------------\r\n",
      "anyio                     4.3.0\r\n",
      "appnope                   0.1.4\r\n",
      "argon2-cffi               23.1.0\r\n",
      "argon2-cffi-bindings      21.2.0\r\n",
      "arrow                     1.3.0\r\n",
      "asttokens                 2.4.1\r\n",
      "async-lru                 2.0.4\r\n",
      "attrs                     23.2.0\r\n",
      "Babel                     2.14.0\r\n",
      "beautifulsoup4            4.12.3\r\n",
      "bleach                    6.1.0\r\n",
      "blinker                   1.7.0\r\n",
      "certifi                   2024.2.2\r\n",
      "cffi                      1.16.0\r\n",
      "charset-normalizer        3.3.2\r\n",
      "click                     8.1.7\r\n",
      "comm                      0.2.2\r\n",
      "debugpy                   1.8.1\r\n",
      "decorator                 5.1.1\r\n",
      "defusedxml                0.7.1\r\n",
      "exceptiongroup            1.2.0\r\n",
      "executing                 2.0.1\r\n",
      "fastjsonschema            2.19.1\r\n",
      "Flask                     3.0.3\r\n",
      "Flask-SQLAlchemy          3.1.1\r\n",
      "fqdn                      1.5.1\r\n",
      "greenlet                  3.0.3\r\n",
      "h11                       0.14.0\r\n",
      "httpcore                  1.0.5\r\n",
      "httpx                     0.27.0\r\n",
      "idna                      3.7\r\n",
      "importlib_metadata        7.1.0\r\n",
      "ipykernel                 6.29.4\r\n",
      "ipython                   8.18.1\r\n",
      "ipywidgets                8.1.2\r\n",
      "isoduration               20.11.0\r\n",
      "itsdangerous              2.2.0\r\n",
      "jedi                      0.19.1\r\n",
      "Jinja2                    3.1.3\r\n",
      "json5                     0.9.25\r\n",
      "jsonpointer               2.4\r\n",
      "jsonschema                4.21.1\r\n",
      "jsonschema-specifications 2023.12.1\r\n",
      "jupyter                   1.0.0\r\n",
      "jupyter_client            8.6.1\r\n",
      "jupyter-console           6.6.3\r\n",
      "jupyter_core              5.7.2\r\n",
      "jupyter-events            0.10.0\r\n",
      "jupyter-lsp               2.2.5\r\n",
      "jupyter_server            2.14.0\r\n",
      "jupyter_server_terminals  0.5.3\r\n",
      "jupyterlab                4.1.6\r\n",
      "jupyterlab_pygments       0.3.0\r\n",
      "jupyterlab_server         2.26.0\r\n",
      "jupyterlab_widgets        3.0.10\r\n",
      "MarkupSafe                2.1.5\r\n",
      "matplotlib-inline         0.1.7\r\n",
      "mistune                   3.0.2\r\n",
      "nbclient                  0.10.0\r\n",
      "nbconvert                 7.16.3\r\n",
      "nbformat                  5.10.4\r\n",
      "nest-asyncio              1.6.0\r\n",
      "notebook                  7.1.3\r\n",
      "notebook_shim             0.2.4\r\n",
      "overrides                 7.7.0\r\n",
      "packaging                 24.0\r\n",
      "pandocfilters             1.5.1\r\n",
      "parso                     0.8.4\r\n",
      "pexpect                   4.9.0\r\n",
      "pip                       24.0\r\n",
      "platformdirs              4.2.0\r\n",
      "prometheus_client         0.20.0\r\n",
      "prompt-toolkit            3.0.43\r\n",
      "psutil                    5.9.8\r\n",
      "ptyprocess                0.7.0\r\n",
      "pure-eval                 0.2.2\r\n",
      "pycparser                 2.22\r\n",
      "Pygments                  2.17.2\r\n",
      "python-dateutil           2.9.0.post0\r\n",
      "python-json-logger        2.0.7\r\n",
      "PyYAML                    6.0.1\r\n",
      "pyzmq                     26.0.0\r\n",
      "qtconsole                 5.5.1\r\n",
      "QtPy                      2.4.1\r\n",
      "referencing               0.34.0\r\n",
      "requests                  2.31.0\r\n",
      "rfc3339-validator         0.1.4\r\n",
      "rfc3986-validator         0.1.1\r\n",
      "rpds-py                   0.18.0\r\n",
      "Send2Trash                1.8.3\r\n",
      "setuptools                58.0.4\r\n",
      "six                       1.16.0\r\n",
      "sniffio                   1.3.1\r\n",
      "soupsieve                 2.5\r\n",
      "SQLAlchemy                2.0.29\r\n",
      "stack-data                0.6.3\r\n",
      "terminado                 0.18.1\r\n",
      "tinycss2                  1.2.1\r\n",
      "tomli                     2.0.1\r\n",
      "tornado                   6.4\r\n",
      "traitlets                 5.14.2\r\n",
      "types-python-dateutil     2.9.0.20240316\r\n",
      "typing_extensions         4.11.0\r\n",
      "uri-template              1.3.0\r\n",
      "urllib3                   2.2.1\r\n",
      "wcwidth                   0.2.13\r\n",
      "webcolors                 1.13\r\n",
      "webencodings              0.5.1\r\n",
      "websocket-client          1.7.0\r\n",
      "Werkzeug                  3.0.2\r\n",
      "widgetsnbextension        4.0.10\r\n",
      "zipp                      3.18.1\r\n"
     ]
    }
   ],
   "source": [
    "!pip list"
   ],
   "metadata": {
    "collapsed": false,
    "ExecuteTime": {
     "end_time": "2024-04-18T11:02:26.524141Z",
     "start_time": "2024-04-18T11:02:21.816270Z"
    }
   },
   "id": "c42b6d95273d8b19",
   "execution_count": 4
  },
  {
   "cell_type": "code",
   "execution_count": null,
   "id": "5722ebb3-2129-4cf7-a004-87dc36d2e00c",
   "metadata": {
    "ExecuteTime": {
     "start_time": "2024-04-18T10:56:17.014727Z"
    }
   },
   "outputs": [],
   "source": [
    "engine = create_engine('sqlite:///census.sqlite')"
   ]
  },
  {
   "cell_type": "code",
   "execution_count": null,
   "id": "e399a284-a97c-4d13-973c-e2cc03111dbb",
   "metadata": {
    "ExecuteTime": {
     "start_time": "2024-04-18T10:22:26.972475Z"
    }
   },
   "outputs": [],
   "source": [
    "inspector = inspect(engine)\n",
    "table_names = inspector.get_table_names()\n",
    "print(table_names)"
   ]
  },
  {
   "cell_type": "code",
   "execution_count": null,
   "id": "f36fe41c-53f4-4814-8fd7-c4fa4ee7d47e",
   "metadata": {
    "ExecuteTime": {
     "start_time": "2024-04-18T10:22:26.973702Z"
    }
   },
   "outputs": [],
   "source": [
    "connection = engine.connect()\n",
    "print(connection)"
   ]
  },
  {
   "cell_type": "code",
   "execution_count": null,
   "id": "2d3f1b32-9685-4e99-855b-b90c39afcf7e",
   "metadata": {
    "ExecuteTime": {
     "start_time": "2024-04-18T10:22:26.974403Z"
    }
   },
   "outputs": [],
   "source": [
    "metadata = MetaData()\n",
    "census = Table('census', metadata, autoload_with=engine)\n",
    "print(repr(census))"
   ]
  },
  {
   "cell_type": "code",
   "execution_count": null,
   "id": "947d7a9d-60d3-4cd1-bf96-06ae0da6ac3b",
   "metadata": {
    "ExecuteTime": {
     "start_time": "2024-04-18T10:22:26.974887Z"
    }
   },
   "outputs": [],
   "source": [
    "stmt = text('SELECT state, sex FROM census')  \n",
    "result_proxy = connection.execute(stmt)\n",
    "results = result_proxy.fetchall()\n",
    "print(results[:5])"
   ]
  },
  {
   "cell_type": "code",
   "execution_count": null,
   "id": "d5b5ca84-5222-4ac1-ab58-2e8b77ae47c8",
   "metadata": {
    "ExecuteTime": {
     "start_time": "2024-04-18T10:22:26.975308Z"
    }
   },
   "outputs": [],
   "source": [
    "query = select(census.c.state, census.c.sex)\n",
    "output = connection.execute(query)\n",
    "results = output.fetchall()\n",
    "print(results[:5])"
   ]
  },
  {
   "cell_type": "code",
   "execution_count": null,
   "id": "fe680227-b03d-4a0e-a262-843f2ec5f9c3",
   "metadata": {
    "ExecuteTime": {
     "start_time": "2024-04-18T10:22:26.975677Z"
    }
   },
   "outputs": [],
   "source": [
    "print(query)"
   ]
  },
  {
   "cell_type": "code",
   "execution_count": null,
   "id": "d63f3a34-5e55-4823-bb89-78bdbaf30c13",
   "metadata": {
    "ExecuteTime": {
     "start_time": "2024-04-18T10:22:26.978843Z"
    }
   },
   "outputs": [],
   "source": [
    "stmt = select(\n",
    "    func.sum(census.c.pop2008)\n",
    ")\n",
    "results = connection.execute(stmt).fetchall()\n",
    "print(results)"
   ]
  },
  {
   "cell_type": "code",
   "execution_count": null,
   "id": "b5cff703-24e1-4b5f-9ded-2ec79a2278fb",
   "metadata": {
    "ExecuteTime": {
     "start_time": "2024-04-18T10:22:26.979455Z"
    }
   },
   "outputs": [],
   "source": [
    "stmt = select(\n",
    "    func.sum(census.c.pop2008)\n",
    ").where(census.c.sex == 'F')"
   ]
  },
  {
   "cell_type": "code",
   "execution_count": null,
   "id": "1c2505a0-3d8e-45e0-a758-990f98e2d6a2",
   "metadata": {
    "ExecuteTime": {
     "start_time": "2024-04-18T10:22:26.979893Z"
    }
   },
   "outputs": [],
   "source": [
    "results = connection.execute(stmt).fetchall()\n",
    "print(results)"
   ]
  },
  {
   "cell_type": "code",
   "execution_count": null,
   "id": "7c33fc3d-9d15-4639-8bb5-51c8087a0994",
   "metadata": {
    "ExecuteTime": {
     "start_time": "2024-04-18T10:22:26.980285Z"
    }
   },
   "outputs": [],
   "source": []
  },
  {
   "cell_type": "code",
   "execution_count": null,
   "id": "88ab8570-054d-413c-99a9-d9c3ce6d3c09",
   "metadata": {},
   "outputs": [],
   "source": []
  },
  {
   "cell_type": "code",
   "execution_count": null,
   "id": "50398b36-7037-4c9d-9380-507a99272985",
   "metadata": {},
   "outputs": [],
   "source": []
  },
  {
   "cell_type": "code",
   "execution_count": null,
   "id": "1f854e3d-8f3d-441d-9861-160e552fba54",
   "metadata": {},
   "outputs": [],
   "source": []
  }
 ],
 "metadata": {
  "kernelspec": {
   "display_name": "Python 3 (ipykernel)",
   "language": "python",
   "name": "python3"
  },
  "language_info": {
   "codemirror_mode": {
    "name": "ipython",
    "version": 3
   },
   "file_extension": ".py",
   "mimetype": "text/x-python",
   "name": "python",
   "nbconvert_exporter": "python",
   "pygments_lexer": "ipython3",
   "version": "3.9.6"
  }
 },
 "nbformat": 4,
 "nbformat_minor": 5
}
